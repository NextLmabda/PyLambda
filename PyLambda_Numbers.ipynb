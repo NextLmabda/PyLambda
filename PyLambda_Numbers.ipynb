{
 "cells": [
  {
   "cell_type": "code",
   "execution_count": 135,
   "metadata": {},
   "outputs": [],
   "source": [
    "class PyNumbers:\n",
    "    def __init__(self):\n",
    "        print(f'You have initialized PyNumbers class')\n",
    "                \n",
    "    \n",
    "    def is_perfect(self, num: int):\n",
    "        \"\"\"\n",
    "        This method checks if a number is a perfect number.\n",
    "        a perfect number is a positive integer that is equal to the sum of its proper positive divisors, that is, \n",
    "        the sum of its positive divisors excluding the number itself (also known as its aliquot sum).\n",
    "        Example : The first perfect number is 6, because 1, 2, and 3 are its proper positive divisors, and 1 + 2 + 3 = 6\n",
    "        \"\"\"\n",
    "    \n",
    "        factors = []     # List to store factors of number passed in.\n",
    "\n",
    "        for i in range(1, num//2 + 1):   # num //2 is used instead of num%i for uptimization \n",
    "\n",
    "            if num % i == 0:           # Calculates all the factors of number passed\n",
    "                factors.append(i)\n",
    "\n",
    "        print(f'Factors of {num} are: {factors}')\n",
    "\n",
    "        if sum(factors) == num:\n",
    "\n",
    "            return( f'{num} is a perfect number')\n",
    "        else:\n",
    "            return( f'{num} is NOT a perfect number')\n",
    "        \n",
    "# --------------------------------------------------------------------------------------------------------------------        \n",
    "        \n",
    "        \n",
    "    def is_prime(self, num):\n",
    "        \n",
    "        \"\"\"\n",
    "        This method checks if a number is a prime number or not.\n",
    "        A prime number is a natural number greater than 1, which is only divisible by 1 and itself. \n",
    "        First few prime numbers are : 2 3 5 7 11 13 17 19 23 …..\n",
    "        \n",
    "        *** Note this code is not optimal. For an optized version, checkout \"is_prime_optimized\" from this module***\n",
    "        \"\"\"\n",
    "       \n",
    "    \n",
    "        factors = []             # List to store factors of the number passed\n",
    "\n",
    "        for i in range(1, num +1):\n",
    "\n",
    "            if num%i == 0:       # This line calculates the factors of num\n",
    "\n",
    "                factors.append(i)\n",
    "\n",
    "        print(f'The factors of {num} are: {factors}')\n",
    "\n",
    "        if len(factors) > 2:\n",
    "\n",
    "            return f'{num} is NOT a prime number'        \n",
    "        else:\n",
    "            return f'{num} IS a prime number'     \n",
    "         \n",
    "# --------------------------------------------------------------------------------------------------------------------    \n",
    "        \n",
    "    def is_prime_optimized(self, num: int):\n",
    "        \"\"\"\n",
    "        This is an optimized code to determine prime numbers. It can determine large prime numbers fast.\n",
    "        This code is based on the principle that 'every prime number can be represented in form of 6n+1 or 6n-1 \n",
    "        except the prime number 2 and 3, where n is a natural number'.\n",
    "        \n",
    "        \"\"\"\n",
    "        \n",
    "        if num in [1, 2, 3]:\n",
    "            return f'{num} is prime'\n",
    "        else:\n",
    "            if (num + 1) % 6 == 0 or (num - 1) % 6 == 0:\n",
    "                return f'{num} is prime'\n",
    "            else:\n",
    "                return f'{num} is NOT prime'\n",
    "            \n",
    "# --------------------------------------------------------------------------------------------------------------------            \n",
    "            \n",
    "    def squares_30(self):\n",
    "        \n",
    "        \"\"\"\n",
    "        This function creates and prints a list where the values \n",
    "        are the square of numbers between 1 and 30 (both included)\n",
    "        \n",
    "        \"\"\"\n",
    "        \n",
    "        squares = []        # List to store the squared values generated\n",
    "\n",
    "        for i in range(1, 31):\n",
    "            squares.append(i**2)        \n",
    "\n",
    "        return squares\n",
    "    \n",
    "# --------------------------------------------------------------------------------------------------------------------    \n",
    "    \n",
    "    \n",
    "    def evens(self):\n",
    "        \n",
    "        \"\"\"\n",
    "        This function returns a dictionary of all even numbers between 4 and 30 \n",
    "        where the key even number and the values are the square of the even number.        \n",
    "        \"\"\"\n",
    "    \n",
    "        even = {}          # Empty dictionary to store the key:value pairs\n",
    "\n",
    "        for i in range(4, 31):\n",
    "\n",
    "            if i % 2 == 0:\n",
    "                even[i] = i**2    # Generates the key(i) and assigns the value (i**2) to the key in the dictionary\n",
    "\n",
    "        return even       \n",
    "    \n",
    "# --------------------------------------------------------------------------------------------------------------------    \n",
    "    \n",
    "    def in_out_func(self, a, b):\n",
    "        \n",
    "        \"\"\"\n",
    "        This function accepts two parameters a and b in the outer function in_out_func() and calculates \n",
    "        the sum of a and b in the inner() function. This sum is then returned to the outer function in_out_func()\n",
    "        to add 5 to produce the final value\n",
    "        \n",
    "        \"\"\"        \n",
    "        \n",
    "        print(f'{a} and {b} have been passed to the outer function')\n",
    "\n",
    "        def inner():\n",
    "            \n",
    "            \"\"\"\n",
    "            Inner() fuction returns the sum of a and b after processing\n",
    "            \n",
    "            \"\"\"\n",
    "            print(f'We are in the inner function to add {a} and {b}')\n",
    "            inner_sum = sum((a,b))\n",
    "            print(f'inner_sum = {inner_sum}')\n",
    "\n",
    "            return sum((a,b))\n",
    "        \n",
    "        \n",
    "        # The sum from inner() function is returned to the outer function in_out_func() to add 5\n",
    "        print('\\t....back in the outer function to add 5\\n')\n",
    "        total = 5 + inner()\n",
    "        return f'Total = {total}'"
   ]
  },
  {
   "cell_type": "code",
   "execution_count": 136,
   "metadata": {},
   "outputs": [
    {
     "name": "stdout",
     "output_type": "stream",
     "text": [
      "You have initialized PyNumbers class\n"
     ]
    }
   ],
   "source": [
    "que1 = PyNumbers()"
   ]
  },
  {
   "cell_type": "code",
   "execution_count": 121,
   "metadata": {},
   "outputs": [
    {
     "name": "stdout",
     "output_type": "stream",
     "text": [
      "Factors of 6 are: [1, 2, 3]\n"
     ]
    },
    {
     "data": {
      "text/plain": [
       "'6 is a perfect number'"
      ]
     },
     "execution_count": 121,
     "metadata": {},
     "output_type": "execute_result"
    }
   ],
   "source": [
    "que1.is_perfect(6)"
   ]
  },
  {
   "cell_type": "code",
   "execution_count": null,
   "metadata": {},
   "outputs": [],
   "source": [
    "%%timeit\n",
    "que1.is_prime(10000000001)"
   ]
  },
  {
   "cell_type": "code",
   "execution_count": 85,
   "metadata": {},
   "outputs": [
    {
     "name": "stdout",
     "output_type": "stream",
     "text": [
      "678 ns ± 22.4 ns per loop (mean ± std. dev. of 7 runs, 1000000 loops each)\n"
     ]
    }
   ],
   "source": [
    "%%timeit\n",
    "que1.is_prime_optimized(1000000000000000000000000000000000000000000000000000000000000000000000000000000000000000000000001)"
   ]
  },
  {
   "cell_type": "code",
   "execution_count": 98,
   "metadata": {},
   "outputs": [
    {
     "data": {
      "text/plain": [
       "{4: 16,\n",
       " 6: 36,\n",
       " 8: 64,\n",
       " 10: 100,\n",
       " 12: 144,\n",
       " 14: 196,\n",
       " 16: 256,\n",
       " 18: 324,\n",
       " 20: 400,\n",
       " 22: 484,\n",
       " 24: 576,\n",
       " 26: 676,\n",
       " 28: 784,\n",
       " 30: 900}"
      ]
     },
     "execution_count": 98,
     "metadata": {},
     "output_type": "execute_result"
    }
   ],
   "source": [
    "que1.evens()"
   ]
  },
  {
   "cell_type": "code",
   "execution_count": 99,
   "metadata": {},
   "outputs": [
    {
     "data": {
      "text/plain": [
       "'C:\\\\Users\\\\aibid\\\\OneDrive\\\\STUDIES\\\\PyLAMBDA'"
      ]
     },
     "execution_count": 99,
     "metadata": {},
     "output_type": "execute_result"
    }
   ],
   "source": [
    "pwd"
   ]
  },
  {
   "cell_type": "code",
   "execution_count": 137,
   "metadata": {},
   "outputs": [
    {
     "name": "stdout",
     "output_type": "stream",
     "text": [
      "2 and 3 have been passed to the outer function\n",
      "\tBack in the outer function to add 5\n",
      "\n",
      "We are in the inner function to add 2 and 3\n",
      "inner_sum = 5\n"
     ]
    },
    {
     "data": {
      "text/plain": [
       "'Total = 10'"
      ]
     },
     "execution_count": 137,
     "metadata": {},
     "output_type": "execute_result"
    }
   ],
   "source": [
    "que1.in_out_func(2,3)"
   ]
  },
  {
   "cell_type": "code",
   "execution_count": null,
   "metadata": {},
   "outputs": [],
   "source": []
  },
  {
   "cell_type": "code",
   "execution_count": null,
   "metadata": {},
   "outputs": [],
   "source": []
  },
  {
   "cell_type": "code",
   "execution_count": null,
   "metadata": {},
   "outputs": [],
   "source": []
  }
 ],
 "metadata": {
  "kernelspec": {
   "display_name": "Python 3",
   "language": "python",
   "name": "python3"
  },
  "language_info": {
   "codemirror_mode": {
    "name": "ipython",
    "version": 3
   },
   "file_extension": ".py",
   "mimetype": "text/x-python",
   "name": "python",
   "nbconvert_exporter": "python",
   "pygments_lexer": "ipython3",
   "version": "3.7.6"
  }
 },
 "nbformat": 4,
 "nbformat_minor": 5
}
