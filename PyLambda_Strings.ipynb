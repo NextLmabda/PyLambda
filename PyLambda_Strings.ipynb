{
 "cells": [
  {
   "cell_type": "code",
   "execution_count": 21,
   "id": "abe2acff",
   "metadata": {},
   "outputs": [],
   "source": [
    "class PyStrings:\n",
    "    def __init__(self):\n",
    "        print(f'You have initialized the PyStrings class')\n",
    "        \n",
    "    def string_calc(self, mystring):\n",
    "        \"\"\"\n",
    "        This function accepts a string and calculates the number of upper case letters and lower case letters\n",
    "        \n",
    "        \"\"\"\n",
    "        # Validate that the entries are of the correct type        \n",
    "        assert type(mystring) == str, 'Please pass in a string'\n",
    "        assert mystring.isalpha(), 'Please pass in letters'\n",
    "        \n",
    "        # Create list variables to accept upper and lower case letters\n",
    "        upper = []\n",
    "        lower = []\n",
    "\n",
    "        \n",
    "        for i in mystring:         # Check if the letter in the string is upper case\n",
    "            if i.isupper():         \n",
    "                upper.append(i)\n",
    "\n",
    "            elif i.islower():      # Check if the letter in the string is lower case\n",
    "                lower.append(i)\n",
    "\n",
    "        print(f'You entered {len(upper)} uppercase letters; these are: {upper}')\n",
    "        print(f'You entered {len(lower)} lowercase letters; these are: {lower}')\n",
    "        \n",
    "# -----------------------------------------------------------------------------------------------------------------\n",
    "        \n",
    "    def hyphenated(self):\n",
    "        \"\"\"\n",
    "        This function accepts a hyphen-separated sequence of words as input and prints the words in a \n",
    "        hyphen-separated sequence after sorting them alphabetically.\n",
    "        Sample Items : green-red-yellow-black-white\n",
    "        Expected Result : black-green-red-white-yellow\n",
    "        \"\"\"\n",
    "        \n",
    "        my_word = input(\"Enter hyphen-separated words and I'll sort it for you: \")\n",
    "        assert '-' in my_word, \"There are no hyphens in the word you entered\"\n",
    "        my_word = my_word.split('-')\n",
    "\n",
    "        my_word = sorted(set(my_word))      # Set is used to ensure duplicate words are not repeated\n",
    "        return '-'.join(my_word)        \n",
    "        \n",
    "# -----------------------------------------------------------------------------------------------------------------\n",
    "\n",
    "    def showEmployee(self):\n",
    "        \"\"\"\n",
    "        This function accept employee name and salary, and displays both. \n",
    "        If the salary is missing in the function call, salary defaults to 9000.        \n",
    "        \"\"\"\n",
    "    \n",
    "        details = {}\n",
    "\n",
    "        details['name'] = input(\"Enter your name: \")\n",
    "        assert not details['name'].isnumeric(), \"Your entry is invalid\"\n",
    "\n",
    "        try:\n",
    "            details['salary'] = int(input(\"Enter your salary: \"))\n",
    "\n",
    "        except:   \n",
    "            details['salary'] = 9000\n",
    "\n",
    "\n",
    "        print(f\"\\nYour name is {details['name']} and you earn ${details['salary']}\")\n",
    "        return f\"Your data is stored as: {details}\"\n",
    "\n",
    "# -----------------------------------------------------------------------------------------------------------------\n",
    "\n",
    "    def multipleLetterCount(self, n:str):\n",
    "        \n",
    "        \"\"\"\n",
    "        This function takes in one parameter (a string) and returns a dictionary \n",
    "        with the keys being the letters and the value being the count of the letter.\n",
    "        \"\"\"\n",
    "        \n",
    "        my_dic = {}\n",
    "\n",
    "                \n",
    "        n = n.lower().split()\n",
    "        n  = ''.join(n)\n",
    "        n = sorted(n)\n",
    "\n",
    "        for i in n:\n",
    "            my_dic[i] = n.count(i)\n",
    "\n",
    "        return my_dic\n",
    "\n",
    "\n"
   ]
  },
  {
   "cell_type": "code",
   "execution_count": 22,
   "id": "6b6ad68f",
   "metadata": {},
   "outputs": [
    {
     "name": "stdout",
     "output_type": "stream",
     "text": [
      "You have initialized the PyStrings class\n"
     ]
    }
   ],
   "source": [
    "test = PyStrings()"
   ]
  },
  {
   "cell_type": "code",
   "execution_count": 7,
   "id": "ef2c88bc",
   "metadata": {},
   "outputs": [
    {
     "name": "stdout",
     "output_type": "stream",
     "text": [
      "You entered 0 uppercase letters; these are: []\n",
      "You entered 1 lowercase letters; these are: ['e']\n"
     ]
    }
   ],
   "source": [
    "test.string_calc('e')"
   ]
  },
  {
   "cell_type": "code",
   "execution_count": 9,
   "id": "19e807a3",
   "metadata": {},
   "outputs": [
    {
     "name": "stdout",
     "output_type": "stream",
     "text": [
      "Enter hyphen-separated words and I'll sort it for you: green-red-yellow-black-white\n"
     ]
    },
    {
     "data": {
      "text/plain": [
       "'black-green-red-white-yellow'"
      ]
     },
     "execution_count": 9,
     "metadata": {},
     "output_type": "execute_result"
    }
   ],
   "source": [
    "test.hyphenated()"
   ]
  },
  {
   "cell_type": "code",
   "execution_count": 13,
   "id": "bd36955c",
   "metadata": {},
   "outputs": [
    {
     "name": "stdout",
     "output_type": "stream",
     "text": [
      "Enter your name: kay\n",
      "Enter your salary: 6\n",
      "\n",
      "Your name is kay and you earn $6\n"
     ]
    },
    {
     "data": {
      "text/plain": [
       "\"Your data record shows as: {'name': 'kay', 'salary': 6}\""
      ]
     },
     "execution_count": 13,
     "metadata": {},
     "output_type": "execute_result"
    }
   ],
   "source": [
    "test.showEmployee()"
   ]
  },
  {
   "cell_type": "code",
   "execution_count": 25,
   "id": "669af0f2",
   "metadata": {},
   "outputs": [
    {
     "data": {
      "text/plain": [
       "{'1': 1, '2': 1, 'a': 1, 'd': 1, 'e': 1, 'l': 1, 'o': 1, 'r': 1, 'y': 1}"
      ]
     },
     "execution_count": 25,
     "metadata": {},
     "output_type": "execute_result"
    }
   ],
   "source": [
    "test.multipleLetterCount('12 year old')"
   ]
  },
  {
   "cell_type": "code",
   "execution_count": null,
   "id": "33403242",
   "metadata": {},
   "outputs": [],
   "source": []
  }
 ],
 "metadata": {
  "kernelspec": {
   "display_name": "Python 3",
   "language": "python",
   "name": "python3"
  },
  "language_info": {
   "codemirror_mode": {
    "name": "ipython",
    "version": 3
   },
   "file_extension": ".py",
   "mimetype": "text/x-python",
   "name": "python",
   "nbconvert_exporter": "python",
   "pygments_lexer": "ipython3",
   "version": "3.7.1"
  }
 },
 "nbformat": 4,
 "nbformat_minor": 5
}
